{
 "cells": [
  {
   "cell_type": "code",
   "execution_count": 1,
   "metadata": {},
   "outputs": [],
   "source": [
    "import numpy as np\n",
    "import seaborn as sns\n",
    "import matplotlib.pyplot as plt\n",
    "import pandas as pd\n",
    "import json\n",
    "import math"
   ]
  },
  {
   "cell_type": "code",
   "execution_count": 2,
   "metadata": {},
   "outputs": [],
   "source": [
    "gpuData = {}\n",
    "with open('largeBench_single_cublas_0.json') as json_file:\n",
    "    gpuData = json.load(json_file)\n",
    "\n",
    "        \n",
    "for exp in gpuData:\n",
    "    exp['implementation'] = 'cuBLAS'"
   ]
  },
  {
   "cell_type": "code",
   "execution_count": 3,
   "metadata": {},
   "outputs": [],
   "source": [
    "xilinxData = {}\n",
    "with open('largeBench_single_fpga_0.json') as json_file:\n",
    "    xilinxData = json.load(json_file)\n",
    "    \n",
    "    \n",
    "for exp in xilinxData:\n",
    "    exp['implementation'] = 'Xilinx'"
   ]
  },
  {
   "cell_type": "code",
   "execution_count": 4,
   "metadata": {},
   "outputs": [],
   "source": [
    "cpuData = {}\n",
    "with open('largeBench_single_openblas_0.json') as json_file:\n",
    "    cpuData = json.load(json_file)\n",
    "    \n",
    "\n",
    "for exp in cpuData:\n",
    "    exp['implementation'] = 'openBLAS'"
   ]
  },
  {
   "cell_type": "code",
   "execution_count": 5,
   "metadata": {},
   "outputs": [],
   "source": [
    "data = cpuData + gpuData + xilinxData"
   ]
  },
  {
   "cell_type": "code",
   "execution_count": 6,
   "metadata": {},
   "outputs": [
    {
     "name": "stdout",
     "output_type": "stream",
     "text": [
      "Exp.  synthetic1Bench   openBLASS  N= 2**13.0          > mean: 0.56895 +/- 0.01998  median:  0.56535\n",
      "Exp.  synthetic1Bench   openBLASS  N= 2**14.0          > mean: 1.90870 +/- 0.05139  median:  1.91469\n",
      "Exp.  synthetic1Bench   openBLASS  N= 2**14.58         > mean: 4.06156 +/- 0.11116  median:  4.04556\n",
      "Exp.  synthetic1Bench   openBLASS  N= 2**15.0          > mean: 7.17485 +/- 0.13992  median:  7.18058\n",
      "Exp.  synthetic1Bench   openBLASS  N= 2**15.32         > mean: 11.42200 +/- 0.53711  median:  11.31613\n",
      "Avg std: 0.17191\n",
      "\n",
      "Exp.  synthetic1Bench     cuBLASS  N= 2**13.0          > mean: 2.70997 +/- 0.06279  median:  2.70289\n",
      "Exp.  synthetic1Bench     cuBLASS  N= 2**14.0          > mean: 2.90410 +/- 0.04424  median:  2.90491\n",
      "Exp.  synthetic1Bench     cuBLASS  N= 2**14.58         > mean: 3.32053 +/- 0.10707  median:  3.29092\n",
      "Avg std: 0.07137\n",
      "\n",
      "Exp.  synthetic1Bench     XilinxS  N= 2**13.0          > mean: 0.54165 +/- 0.06761  median:  0.57686\n",
      "Exp.  synthetic1Bench     XilinxS  N= 2**14.0          > mean: 1.61891 +/- 0.00776  median:  1.61908\n",
      "Exp.  synthetic1Bench     XilinxS  N= 2**14.58         > mean: 3.32880 +/- 0.02209  median:  3.33145\n",
      "Exp.  synthetic1Bench     XilinxS  N= 2**15.0          > mean: 5.43867 +/- 0.42938  median:  5.62638\n",
      "Exp.  synthetic1Bench     XilinxS  N= 2**15.32         > mean: 8.48277 +/- 0.59515  median:  8.64851\n",
      "Avg std: 0.22440\n",
      "\n"
     ]
    }
   ],
   "source": [
    "for exp in data:\n",
    "    \n",
    "    noSizes = len(exp['n'])\n",
    "    avgStd = 0.0\n",
    "    \n",
    "    for size, timings in list(zip(exp['n'], exp['runtimes'])):\n",
    "        mean = np.mean(timings)\n",
    "        std = np.std(timings)\n",
    "        avgStd += std\n",
    "        median = np.median(timings)\n",
    "        implem = \"{0:>10}\".format(exp['implementation']) + (\"S\" if exp['precision']=='single' else \"D\")\n",
    "        algo = \"{0:>6}\".format(exp['algo'])\n",
    "        print(\"Exp. \", algo,implem, \" N=\", \"2**{0:<12}\".format(round(math.log(size,2),2)), \" > mean:\", \"{:.5f}\".format(mean), \"+/-\", \"{:.5f}\".format(std), \" median: \", \"{:.5f}\".format(median))\n",
    "    \n",
    "    print(\"Avg std:\", \"{:.5f}\".format(avgStd / noSizes))\n",
    "    print()"
   ]
  },
  {
   "cell_type": "code",
   "execution_count": 8,
   "metadata": {},
   "outputs": [
    {
     "name": "stdout",
     "output_type": "stream",
     "text": [
      "\n",
      "chain single\n"
     ]
    },
    {
     "data": {
      "text/html": [
       "<div>\n",
       "<style scoped>\n",
       "    .dataframe tbody tr th:only-of-type {\n",
       "        vertical-align: middle;\n",
       "    }\n",
       "\n",
       "    .dataframe tbody tr th {\n",
       "        vertical-align: top;\n",
       "    }\n",
       "\n",
       "    .dataframe thead th {\n",
       "        text-align: right;\n",
       "    }\n",
       "</style>\n",
       "<table border=\"1\" class=\"dataframe\">\n",
       "  <thead>\n",
       "    <tr style=\"text-align: right;\">\n",
       "      <th></th>\n",
       "      <th>N</th>\n",
       "      <th>openBLAS</th>\n",
       "      <th>cuBLAS</th>\n",
       "      <th>Xilinx</th>\n",
       "    </tr>\n",
       "  </thead>\n",
       "  <tbody>\n",
       "    <tr>\n",
       "      <th>0</th>\n",
       "      <td>8192</td>\n",
       "      <td>0.565354</td>\n",
       "      <td>2.702888</td>\n",
       "      <td>0.576858</td>\n",
       "    </tr>\n",
       "    <tr>\n",
       "      <th>1</th>\n",
       "      <td>16384</td>\n",
       "      <td>1.914686</td>\n",
       "      <td>2.904909</td>\n",
       "      <td>1.619080</td>\n",
       "    </tr>\n",
       "    <tr>\n",
       "      <th>2</th>\n",
       "      <td>24576</td>\n",
       "      <td>4.045557</td>\n",
       "      <td>3.290923</td>\n",
       "      <td>3.331447</td>\n",
       "    </tr>\n",
       "    <tr>\n",
       "      <th>3</th>\n",
       "      <td>32768</td>\n",
       "      <td>7.180578</td>\n",
       "      <td>0.000000</td>\n",
       "      <td>5.626383</td>\n",
       "    </tr>\n",
       "    <tr>\n",
       "      <th>4</th>\n",
       "      <td>40960</td>\n",
       "      <td>11.316127</td>\n",
       "      <td>0.000000</td>\n",
       "      <td>8.648509</td>\n",
       "    </tr>\n",
       "  </tbody>\n",
       "</table>\n",
       "</div>"
      ],
      "text/plain": [
       "       N   openBLAS    cuBLAS    Xilinx\n",
       "0   8192   0.565354  2.702888  0.576858\n",
       "1  16384   1.914686  2.904909  1.619080\n",
       "2  24576   4.045557  3.290923  3.331447\n",
       "3  32768   7.180578  0.000000  5.626383\n",
       "4  40960  11.316127  0.000000  8.648509"
      ]
     },
     "metadata": {},
     "output_type": "display_data"
    }
   ],
   "source": [
    "medianTimingsKernel1 = {}\n",
    "medianTimingsKernel1['N'] = data[0]['n'] # [math.log(x, 2) for x in data[0]['n']]\n",
    "\n",
    "for exp in data:\n",
    "\n",
    "#   name = exp['algo'] + \"_\" + exp['implementation']\n",
    "    name = exp['implementation']\n",
    "    medianTimingsKernel1[name] = [np.median(timings) for timings in exp['runtimes']]\n",
    "\n",
    "    \n",
    "medianTimingsKernel1['cuBLAS'] += [0,0]\n",
    "# print(medianTimingsKernel1)\n",
    "    \n",
    "print(\"\\nchain single\")\n",
    "df_medianTimingsKernel1 = pd.DataFrame(data=medianTimingsKernel1)\n",
    "display(df_medianTimingsKernel1)"
   ]
  },
  {
   "cell_type": "code",
   "execution_count": 13,
   "metadata": {},
   "outputs": [
    {
     "data": {
      "text/plain": [
       "<Figure size 432x288 with 0 Axes>"
      ]
     },
     "metadata": {},
     "output_type": "display_data"
    },
    {
     "data": {
      "image/png": "[encoded data removed]",
      "text/plain": [
       "<Figure size 864x432 with 1 Axes>"
      ]
     },
     "metadata": {},
     "output_type": "display_data"
    }
   ],
   "source": [
    "# CHAIN SINGLE\n",
    "plt.rcParams.update({'font.size': 14})\n",
    "\n",
    "barColors = [\n",
    "    (247/255, 202/255, 24/255, 1.0), # openblas\n",
    "    (30/255, 130/255, 76/255, 1.0), # cuda\n",
    "    (217/255, 30/255, 24/255, 1.0), # xilinx\n",
    "]\n",
    "\n",
    "plt.style.use('seaborn-whitegrid')\n",
    "fig = plt.figure()\n",
    "\n",
    "ax = df_medianTimingsKernel1.plot(\n",
    "    figsize=(12,6),\n",
    "    x='N',\n",
    "    y=['openBLAS', 'cuBLAS', 'Xilinx'],\n",
    "    color=barColors,\n",
    "    kind='bar',\n",
    "    style='.-',\n",
    "#     logy=True\n",
    ")\n",
    "    \n",
    "ax.set_ylabel('Total Runtime (s)')\n",
    "ax.set_xlabel('Input Size (N)')\n",
    "plt.xticks(rotation=0, ha='right')\n",
    "\n",
    "\n",
    "plt.savefig('benchPlot_single_totaltime.pdf', bbox_inches='tight')"
   ]
  },
  {
   "cell_type": "code",
   "execution_count": null,
   "metadata": {},
   "outputs": [],
   "source": []
  }
 ],
 "metadata": {
  "kernelspec": {
   "display_name": "Python 3",
   "language": "python",
   "name": "python3"
  },
  "language_info": {
   "codemirror_mode": {
    "name": "ipython",
    "version": 3
   },
   "file_extension": ".py",
   "mimetype": "text/x-python",
   "name": "python",
   "nbconvert_exporter": "python",
   "pygments_lexer": "ipython3",
   "version": "3.8.2"
  }
 },
 "nbformat": 4,
 "nbformat_minor": 4
}
